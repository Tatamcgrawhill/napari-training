{
 "cells": [
  {
   "cell_type": "markdown",
   "metadata": {},
   "source": [
    "# Interactive Analysis\n",
    "One need for bioimage analysts is to interactivly perform analysis on images. This interaction could be manual parameter tuning, such as adjusting thresholds, or performing human-in-the-loop analysis through clicking on specific regions of an image.\n",
    "\n",
    "**[napari](https://napari.org/)** makes such interactive analyses easy because of it's easy coupling with Python and Scientific Python ecosystem, including tools like **[numpy](https://numpy.org/)** and **[scikit-image](https://scikit-image.org/)**."
   ]
  },
  {
   "cell_type": "markdown",
   "metadata": {},
   "source": [
    "## Setup"
   ]
  },
  {
   "cell_type": "markdown",
   "metadata": {},
   "source": [
    "As was explained in the image visaulation tutorial, napari uses Qt for Graphical User Interface (GUI) so we must first create the Qt application before we can get started with `napari`."
   ]
  },
  {
   "cell_type": "code",
   "execution_count": null,
   "metadata": {},
   "outputs": [],
   "source": [
    "%gui qt"
   ]
  },
  {
   "attachments": {},
   "cell_type": "markdown",
   "metadata": {},
   "source": [
    "We can then import `napari`, our `nbscreenshot` utility, example data from `skimage` and instantiate an empty viewer."
   ]
  },
  {
   "cell_type": "code",
   "execution_count": null,
   "metadata": {},
   "outputs": [],
   "source": [
    "import napari\n",
    "from napari.utils import nbscreenshot\n",
    "import trackpy as tp\n",
    "from skimage import data\n",
    "\n",
    "# Create an empty viewer\n",
    "viewer = napari.Viewer()"
   ]
  },
  {
   "cell_type": "markdown",
   "metadata": {},
   "source": [
    "Let's read the original image from previous lessons, take a maximum projection, and view it in napari:"
   ]
  },
  {
   "cell_type": "code",
   "execution_count": null,
   "metadata": {},
   "outputs": [],
   "source": [
    "cells = data.cells3d()\n",
    "membrane = cells[:,0,::].squeeze()\n",
    "nuclei = cells[:,-1::]\n",
    "nuclei = nuclei.squeeze()\n",
    "nuclei_mip = nuclei.max(axis=0)\n",
    "viewer.add_image(nuclei_mip)\n",
    "viewer.add_image(membrane)\n",
    "viewer.add_image(nuclei);"
   ]
  },
  {
   "attachments": {},
   "cell_type": "markdown",
   "metadata": {},
   "source": [
    "We can actualy chain commands together, just becareful as sometimes it can get difficult to keep track of all the things you are doing in the chain of commands"
   ]
  },
  {
   "cell_type": "code",
   "execution_count": null,
   "metadata": {},
   "outputs": [],
   "source": [
    "\n",
    "nuclei_mip = data.cells3d()[:,-1::].squeeze().max(axis=0)\n"
   ]
  },
  {
   "attachments": {},
   "cell_type": "markdown",
   "metadata": {},
   "source": [
    "Sometimes it is easier to break things into individual cells to reuse later."
   ]
  },
  {
   "cell_type": "code",
   "execution_count": null,
   "metadata": {},
   "outputs": [],
   "source": [
    "viewer.add_image(nuclei_mip, name='chained');"
   ]
  },
  {
   "attachments": {},
   "cell_type": "markdown",
   "metadata": {},
   "source": [
    "If you have your data stored as a tif (or series of tifs) you can load them in this way. "
   ]
  },
  {
   "cell_type": "code",
   "execution_count": null,
   "metadata": {},
   "outputs": [],
   "source": [
    "#from tifffile import imread\n",
    "\n",
    "## load the image data and inspect its shape\n",
    "#nuclei_mip = imread('data/nuclei.tif').max(axis=0)\n",
    "#viewer.add_image(nuclei_mip);\n",
    "#print(nuclei_mip.shape)"
   ]
  },
  {
   "cell_type": "code",
   "execution_count": null,
   "metadata": {},
   "outputs": [],
   "source": [
    "nbscreenshot(viewer)"
   ]
  },
  {
   "cell_type": "markdown",
   "metadata": {},
   "source": [
    "## Visualizing image filtering results"
   ]
  },
  {
   "cell_type": "markdown",
   "metadata": {},
   "source": [
    "One common task in image processing in **image filtering** which can be used to denoise an image or detect edges or other features.\n",
    "\n",
    "We can use **napari** to visualize the results of some of the image filters that come with the **scikit-image** library."
   ]
  },
  {
   "cell_type": "code",
   "execution_count": null,
   "metadata": {},
   "outputs": [],
   "source": [
    "# Import scikit-image's filtering module\n",
    "from skimage import filters"
   ]
  },
  {
   "cell_type": "code",
   "execution_count": null,
   "metadata": {},
   "outputs": [],
   "source": [
    "viewer.add_image(filters.sobel_h(nuclei_mip), name='Horizontal Sobel');\n",
    "viewer.add_image(filters.sobel_v(nuclei_mip), name='Vertical Sobel');\n",
    "viewer.add_image(filters.roberts(nuclei_mip), name='Roberts');\n",
    "viewer.add_image(filters.prewitt(nuclei_mip), name='Prewitt');\n",
    "viewer.add_image(filters.scharr(nuclei_mip), name='Scharr');"
   ]
  },
  {
   "cell_type": "code",
   "execution_count": null,
   "metadata": {},
   "outputs": [],
   "source": [
    "nbscreenshot(viewer)"
   ]
  },
  {
   "cell_type": "code",
   "execution_count": null,
   "metadata": {},
   "outputs": [],
   "source": [
    "# Keep only the nuclei mip layer\n",
    "for l in viewer.layers[1:]:\n",
    "    viewer.layers.remove(l)"
   ]
  },
  {
   "cell_type": "markdown",
   "metadata": {},
   "source": [
    "## Interactive segmentation"
   ]
  },
  {
   "cell_type": "markdown",
   "metadata": {},
   "source": [
    "Let's now perform an interactive segmentation of the nuclei using processing utilities from scikit-image."
   ]
  },
  {
   "cell_type": "code",
   "execution_count": null,
   "metadata": {},
   "outputs": [],
   "source": [
    "from skimage import morphology\n",
    "from skimage import feature\n",
    "from skimage import measure\n",
    "from skimage import segmentation\n",
    "from scipy import ndimage\n",
    "import numpy as np"
   ]
  },
  {
   "cell_type": "markdown",
   "metadata": {},
   "source": [
    "First let's try and seperate background from foreground using a threhold. Here we'll use an automatically calculated threshold."
   ]
  },
  {
   "cell_type": "code",
   "execution_count": null,
   "metadata": {},
   "outputs": [],
   "source": [
    "foreground = nuclei_mip >= filters.threshold_li(nuclei_mip)\n",
    "viewer.add_labels(foreground, opacity=0.4);"
   ]
  },
  {
   "cell_type": "code",
   "execution_count": null,
   "metadata": {},
   "outputs": [],
   "source": [
    "nbscreenshot(viewer)"
   ]
  },
  {
   "cell_type": "markdown",
   "metadata": {},
   "source": [
    "Notice the debris located outside the nuclei and some of the holes located inside the nuclei. We will remove the debris by filtering out small objects, and fill the holes using a hole filling algorithm. We can update the data in the viewer in place."
   ]
  },
  {
   "cell_type": "code",
   "execution_count": null,
   "metadata": {},
   "outputs": [],
   "source": [
    "foreground_processed = morphology.remove_small_holes(foreground, 60)\n",
    "foreground_processed = morphology.remove_small_objects(foreground_processed, min_size=50)\n",
    "\n",
    "viewer.layers['foreground'].data = foreground_processed"
   ]
  },
  {
   "cell_type": "code",
   "execution_count": null,
   "metadata": {},
   "outputs": [],
   "source": [
    "nbscreenshot(viewer)"
   ]
  },
  {
   "attachments": {},
   "cell_type": "markdown",
   "metadata": {},
   "source": [
    "## We will now convert this binary mask into an **instance segmentation** where each nuclei is assigned a unique label.\n",
    "\n",
    "We will do this using a **marker controlled watershed** approach. The first step in this procedure is to calculate a distance transform on the binary mask as follows."
   ]
  },
  {
   "cell_type": "code",
   "execution_count": null,
   "metadata": {},
   "outputs": [],
   "source": [
    "distance = ndimage.distance_transform_edt(foreground_processed)\n",
    "viewer.add_image(distance);"
   ]
  },
  {
   "cell_type": "code",
   "execution_count": null,
   "metadata": {},
   "outputs": [],
   "source": [
    "nbscreenshot(viewer)"
   ]
  },
  {
   "cell_type": "markdown",
   "metadata": {},
   "source": [
    "We'll actually want to smooth the distance transform to avoid over segmentation artifacts. We can do this on the data in the viewer in place."
   ]
  },
  {
   "cell_type": "code",
   "execution_count": null,
   "metadata": {},
   "outputs": [],
   "source": [
    "smoothed_distance = filters.gaussian(distance, 10)\n",
    "viewer.layers['distance'].data = smoothed_distance"
   ]
  },
  {
   "cell_type": "code",
   "execution_count": null,
   "metadata": {},
   "outputs": [],
   "source": [
    "nbscreenshot(viewer)"
   ]
  },
  {
   "cell_type": "markdown",
   "metadata": {},
   "source": [
    "Now we can try and identify the centers of each of the nuclei by finding peaks of the distance transform "
   ]
  },
  {
   "cell_type": "code",
   "execution_count": null,
   "metadata": {},
   "outputs": [],
   "source": [
    "coordinates = feature.peak_local_max(distance,min_distance=20)\n",
    "viewer.add_points(coordinates,name='peaks',size=5,face_color='lightblue')"
   ]
  },
  {
   "cell_type": "code",
   "execution_count": null,
   "metadata": {},
   "outputs": [],
   "source": [
    "nbscreenshot(viewer)"
   ]
  },
  {
   "attachments": {},
   "cell_type": "markdown",
   "metadata": {},
   "source": [
    "## This representation isn't super informative\n",
    "\n",
    "A better approach is to show the foreground image that we used initially. This is done by hiding the distance layer."
   ]
  },
  {
   "cell_type": "code",
   "execution_count": null,
   "metadata": {},
   "outputs": [],
   "source": [
    "viewer.layers['distance'].visible=False"
   ]
  },
  {
   "cell_type": "code",
   "execution_count": null,
   "metadata": {},
   "outputs": [],
   "source": [
    "nbscreenshot(viewer)"
   ]
  },
  {
   "attachments": {},
   "cell_type": "markdown",
   "metadata": {},
   "source": [
    "We can now remove any of the points that don't correspond to nuclei centers or add any new ones using the GUI.\n",
    "\n",
    "Changing the color isn't necessary, it just helps to distinguish the ones we added."
   ]
  },
  {
   "cell_type": "code",
   "execution_count": null,
   "metadata": {},
   "outputs": [],
   "source": [
    "nbscreenshot(viewer)"
   ]
  },
  {
   "cell_type": "markdown",
   "metadata": {},
   "source": [
    "Based on those peaks we can now seed the watershed algorithm which will find the nuclei boundaries."
   ]
  },
  {
   "cell_type": "code",
   "execution_count": null,
   "metadata": {},
   "outputs": [],
   "source": [
    "new_peaks = np.round(viewer.layers['peaks'].data).astype(int).T\n",
    "seeds = np.zeros(nuclei_mip.shape, dtype=bool)\n",
    "seeds[(new_peaks[0], new_peaks[1])] = 1\n",
    "\n",
    "markers = measure.label(seeds)\n",
    "nuclei_segmentation = segmentation.watershed(\n",
    "    -smoothed_distance, \n",
    "    markers, \n",
    "    mask=foreground_processed\n",
    ")\n",
    "\n",
    "viewer.add_labels(nuclei_segmentation, opacity=0.4);"
   ]
  },
  {
   "cell_type": "code",
   "execution_count": null,
   "metadata": {},
   "outputs": [],
   "source": [
    "nbscreenshot(viewer)"
   ]
  },
  {
   "attachments": {},
   "cell_type": "markdown",
   "metadata": {},
   "source": [
    "## At this point, you can easily add or remove additional points and rerun the segmentation cell.\n",
    "\n",
    "Maybe we don't want to segment the dividing cell?"
   ]
  },
  {
   "cell_type": "code",
   "execution_count": null,
   "metadata": {},
   "outputs": [],
   "source": [
    "nbscreenshot(viewer)"
   ]
  },
  {
   "cell_type": "markdown",
   "metadata": {},
   "source": [
    "We can now save our segmentation using our builtin save method."
   ]
  },
  {
   "cell_type": "code",
   "execution_count": null,
   "metadata": {},
   "outputs": [],
   "source": [
    "viewer.layers['nuclei_segmentation'].save('nuclei-automated-segmentation.tif', plugin='napari');"
   ]
  },
  {
   "cell_type": "markdown",
   "metadata": {},
   "source": [
    "## Interactive thresholding with a custom GUI element"
   ]
  },
  {
   "cell_type": "markdown",
   "metadata": {},
   "source": [
    "Interactivity can be greatly enhanced by custom GUI elements like slides and push buttons, custom mouse functions, or custom keybindings. **[napari](https://napari.org/)** can easliy be exteneded with these features, and a companion library **[magicgui](https://magicgui.readthedocs.io/en/latest/)** maintained by the napari team allows users to make extensions to the GUI without having to write any GUI code.\n",
    "\n",
    "We'll now explore adding such interactivty to **napari**."
   ]
  },
  {
   "cell_type": "code",
   "execution_count": null,
   "metadata": {},
   "outputs": [],
   "source": [
    "# Remove all processed layers\n",
    "for l in viewer.layers[1:]:\n",
    "    viewer.layers.remove(l)"
   ]
  },
  {
   "cell_type": "code",
   "execution_count": null,
   "metadata": {},
   "outputs": [],
   "source": [
    "# Import magicgui and qt functionality\n",
    "from magicgui import magicgui"
   ]
  },
  {
   "cell_type": "code",
   "execution_count": null,
   "metadata": {},
   "outputs": [],
   "source": [
    "from napari.types import LabelsData, ImageData\n",
    "\n",
    "@magicgui(call_button='Run Threshold')\n",
    "def threshold(image: ImageData, threshold: int = 10000) -> LabelsData:\n",
    "    \"\"\"Threshold an image and return a mask.\"\"\"\n",
    "    return (image > threshold).astype(int)\n",
    "\n",
    "viewer.window.add_dock_widget(threshold)\n",
    "threshold();  # \"call the widget\" to call the function.\n",
    "             # Normally this would be caused by some user UI interaction"
   ]
  },
  {
   "attachments": {},
   "cell_type": "markdown",
   "metadata": {},
   "source": [
    "## Now that wasn't super user-friendly. How about we try again."
   ]
  },
  {
   "cell_type": "code",
   "execution_count": null,
   "metadata": {},
   "outputs": [],
   "source": [
    "from napari.utils.colormaps import Colormap\n",
    "hilo = Colormap(['#0000ff', '#000000', '#ffffff', '#ff0000'], name='hilo')\n",
    "viewer.layers[0].colormap=hilo"
   ]
  },
  {
   "cell_type": "code",
   "execution_count": null,
   "metadata": {},
   "outputs": [],
   "source": [
    "from napari.types import LabelsData\n",
    "from napari.layers import Image\n",
    "@magicgui(call_button='Run Threshold Low')\n",
    "def threshold(image: Image) -> LabelsData:\n",
    "    \"\"\"Threshold an image and return a mask.\"\"\"\n",
    "    threshold= image.contrast_limits[0]\n",
    "    return (image.data > threshold).astype(int)\n",
    "\n",
    "viewer.window.add_dock_widget(threshold)\n",
    "threshold();  # \"call the widget\" to call the function.\n",
    "             # Normally this would be caused by some user UI interaction"
   ]
  },
  {
   "cell_type": "code",
   "execution_count": null,
   "metadata": {},
   "outputs": [],
   "source": [
    "nbscreenshot(viewer)"
   ]
  },
  {
   "cell_type": "code",
   "execution_count": null,
   "metadata": {},
   "outputs": [],
   "source": [
    "from napari.types import LabelsData\n",
    "from napari.layers import Image\n",
    "\n",
    "\n",
    "@magicgui(call_button='Run Threshold High')\n",
    "def threshold(image: Image) -> LabelsData:\n",
    "    \"\"\"Threshold an image and return a mask.\"\"\"\n",
    "    threshold = image.contrast_limits[1]\n",
    "    return (image.data > threshold).astype(int)\n",
    "\n",
    "\n",
    "viewer.window.add_dock_widget(threshold)\n",
    "threshold()  # \"call the widget\" to call the function.\n",
    "# Normally this would be caused by some user UI interaction\n"
   ]
  },
  {
   "cell_type": "code",
   "execution_count": null,
   "metadata": {},
   "outputs": [],
   "source": [
    "## Adding a custom key binding to the viewer for processing foreground data\n",
    "@viewer.bind_key('Shift-P',overwrite=True)\n",
    "def process_foreground(viewer):\n",
    "    data = viewer.layers['threshold result'].data\n",
    "    data_processed = morphology.remove_small_holes(data, 60)\n",
    "    data_processed = morphology.remove_small_objects(data_processed, min_size=50).astype(bool)\n",
    "    viewer.layers['threshold result'].data = data_processed"
   ]
  },
  {
   "attachments": {},
   "cell_type": "markdown",
   "metadata": {},
   "source": [
    "## Actual python functions are allowed to be created to do something useful.\n",
    "\n",
    "Here create `segment_nuclei` and turn it into a widget."
   ]
  },
  {
   "cell_type": "code",
   "execution_count": null,
   "metadata": {},
   "outputs": [],
   "source": [
    "from napari.types import LabelsData\n",
    "from napari.layers import Image\n",
    "@magicgui(call_button='Segment Nuclei')\n",
    "def segment_nuclei(foreground: LabelsData) -> LabelsData:\n",
    "    distance = ndimage.distance_transform_edt(foreground)\n",
    "    distance = filters.gaussian(distance, 10)\n",
    "    coordinates = feature.peak_local_max(distance,min_distance=20)\n",
    "    markers = measure.label(coordinates)\n",
    "    viewer.add_points(coordinates,name='peaks',size=5,face_color='lightblue')\n",
    "    new_peaks = np.round(viewer.layers['peaks'].data).astype(int).T\n",
    "    seeds = np.zeros(nuclei_mip.shape, dtype=bool)\n",
    "    seeds[(new_peaks[0], new_peaks[1])] = 1\n",
    "    markers = measure.label(seeds)\n",
    "    nuclei_segmentation = segmentation.watershed(-distance, markers, mask=foreground)\n",
    "    return nuclei_segmentation\n",
    "viewer.window.add_dock_widget(segment_nuclei)\n",
    "segment_nuclei();"
   ]
  },
  {
   "cell_type": "code",
   "execution_count": null,
   "metadata": {},
   "outputs": [],
   "source": [
    "nbscreenshot(viewer)"
   ]
  },
  {
   "cell_type": "markdown",
   "metadata": {},
   "source": [
    "## Conclusions"
   ]
  },
  {
   "cell_type": "markdown",
   "metadata": {},
   "source": [
    "We've now seen how to interactively perform analyses by adding data to the napari viewer, and editing it as we moved through an analysis workflow. We've also seen how to extend the viewer with custom GUI functionality and keybindings, making analyses even more interactive!"
   ]
  }
 ],
 "metadata": {
  "kernelspec": {
   "display_name": "napari-env",
   "language": "python",
   "name": "python3"
  },
  "language_info": {
   "codemirror_mode": {
    "name": "ipython",
    "version": 3
   },
   "file_extension": ".py",
   "mimetype": "text/x-python",
   "name": "python",
   "nbconvert_exporter": "python",
   "pygments_lexer": "ipython3",
   "version": "3.9.16"
  },
  "vscode": {
   "interpreter": {
    "hash": "a792895d46eefaff74cf85fc0da8d748954f0acb7eeaffa7d7a73a4cda8ecf9b"
   }
  }
 },
 "nbformat": 4,
 "nbformat_minor": 4
}
