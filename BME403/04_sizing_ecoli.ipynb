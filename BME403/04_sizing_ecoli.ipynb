{
 "cells": [
  {
   "attachments": {},
   "cell_type": "markdown",
   "metadata": {},
   "source": [
    "# The goal of this simple example is to "
   ]
  },
  {
   "cell_type": "code",
   "execution_count": null,
   "metadata": {},
   "outputs": [],
   "source": []
  }
 ],
 "metadata": {
  "kernelspec": {
   "display_name": "napari-env",
   "language": "python",
   "name": "python3"
  },
  "language_info": {
   "name": "python",
   "version": "3.9.16"
  },
  "orig_nbformat": 4,
  "vscode": {
   "interpreter": {
    "hash": "a792895d46eefaff74cf85fc0da8d748954f0acb7eeaffa7d7a73a4cda8ecf9b"
   }
  }
 },
 "nbformat": 4,
 "nbformat_minor": 2
}
