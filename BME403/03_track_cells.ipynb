{
 "cells": [
  {
   "attachments": {},
   "cell_type": "markdown",
   "metadata": {},
   "source": [
    "## Setup `Napari` in Notebook"
   ]
  },
  {
   "attachments": {},
   "cell_type": "markdown",
   "metadata": {},
   "source": [
    "Napari uses Qt for Graphical User Interface (GUI) so we must first create the Qt application before we can get started with `napari`."
   ]
  },
  {
   "cell_type": "code",
   "execution_count": 1,
   "metadata": {},
   "outputs": [],
   "source": [
    "%gui qt"
   ]
  },
  {
   "cell_type": "code",
   "execution_count": 2,
   "metadata": {},
   "outputs": [],
   "source": [
    "import napari\n",
    "from napari.utils import nbscreenshot\n",
    "\n",
    "# Create an empty viewer\n",
    "viewer = napari.Viewer()"
   ]
  },
  {
   "attachments": {},
   "cell_type": "markdown",
   "metadata": {},
   "source": [
    "## Import `btrack` and its demo files"
   ]
  },
  {
   "cell_type": "code",
   "execution_count": 3,
   "metadata": {},
   "outputs": [],
   "source": [
    "import btrack\n",
    "from btrack import datasets\n",
    "\n",
    "# example segmentation\n",
    "segmentation = datasets.example_segmentation();\n",
    "\n",
    "# example config\n",
    "config = datasets.cell_config();\n",
    "\n",
    "# example objects\n",
    "track_objects = datasets.example_track_objects();"
   ]
  },
  {
   "cell_type": "code",
   "execution_count": 4,
   "metadata": {},
   "outputs": [
    {
     "name": "stderr",
     "output_type": "stream",
     "text": [
      "[INFO][2023/02/04 07:40:50 PM] Loaded btrack: c:\\Apps\\anaconda3\\envs\\napari-env\\lib\\site-packages\\btrack\\libs\\libtracker.DLL\n",
      "[INFO][2023/02/04 07:40:50 PM] btrack (v0.5.0) library imported\n",
      "[INFO][2023/02/04 07:40:50 PM] Starting BayesianTracker session\n",
      "[INFO][2023/02/04 07:40:50 PM] Loading configuration file: C:\\Users\\bscott\\AppData\\Local\\btrack-examples\\btrack-examples\\Cache\\examples\\cell_config.json\n",
      "[INFO][2023/02/04 07:40:50 PM] Objects are of type: <class 'list'>\n",
      "[INFO][2023/02/04 07:40:50 PM] Starting tracking... \n",
      "[INFO][2023/02/04 07:40:50 PM] Update using: ['MOTION']\n",
      "[INFO][2023/02/04 07:40:50 PM] Tracking objects in frames 0 to 99 (of 500)...\n",
      "[INFO][2023/02/04 07:40:50 PM]  - Timing (Bayesian updates: 4.00ms, Linking: 0.00ms)\n",
      "[INFO][2023/02/04 07:40:50 PM]  - Probabilities (Link: 1.00000, Lost: 0.48361)\n",
      "[INFO][2023/02/04 07:40:50 PM]  - Stats (Active: 78, Lost: 191, Conflicts resolved: 113)\n",
      "[INFO][2023/02/04 07:40:50 PM] Tracking objects in frames 100 to 199 (of 500)...\n",
      "[INFO][2023/02/04 07:40:51 PM]  - Timing (Bayesian updates: 4.00ms, Linking: 1.00ms)\n",
      "[INFO][2023/02/04 07:40:51 PM]  - Probabilities (Link: 1.00000, Lost: 0.65664)\n",
      "[INFO][2023/02/04 07:40:51 PM]  - Stats (Active: 83, Lost: 316, Conflicts resolved: 197)\n",
      "[INFO][2023/02/04 07:40:51 PM] Tracking objects in frames 200 to 299 (of 500)...\n",
      "[INFO][2023/02/04 07:40:51 PM]  - Timing (Bayesian updates: 8.00ms, Linking: 1.00ms)\n",
      "[INFO][2023/02/04 07:40:51 PM]  - Probabilities (Link: 1.00000, Lost: 0.26949)\n",
      "[INFO][2023/02/04 07:40:51 PM]  - Stats (Active: 113, Lost: 565, Conflicts resolved: 285)\n",
      "[INFO][2023/02/04 07:40:51 PM] Tracking objects in frames 300 to 399 (of 500)...\n",
      "[INFO][2023/02/04 07:40:53 PM]  - Timing (Bayesian updates: 13.00ms, Linking: 1.00ms)\n",
      "[INFO][2023/02/04 07:40:53 PM]  - Probabilities (Link: 0.99900, Lost: 0.99976)\n",
      "[INFO][2023/02/04 07:40:53 PM]  - Stats (Active: 140, Lost: 995, Conflicts resolved: 408)\n",
      "[INFO][2023/02/04 07:40:53 PM] Tracking objects in frames 400 to 499 (of 500)...\n",
      "[INFO][2023/02/04 07:40:55 PM]  - Timing (Bayesian updates: 23.00ms, Linking: 1.00ms)\n",
      "[INFO][2023/02/04 07:40:55 PM]  - Probabilities (Link: 1.00000, Lost: 1.00000)\n",
      "[INFO][2023/02/04 07:40:55 PM] SUCCESS.\n",
      "[INFO][2023/02/04 07:40:55 PM]  - Found 506 tracks in 500 frames (in 0.0s)\n",
      "[INFO][2023/02/04 07:40:55 PM]  - Inserted 100 dummy objects to fill tracking gaps\n",
      "[INFO][2023/02/04 07:40:55 PM] Loading hypothesis model: cell_hypothesis\n",
      "[INFO][2023/02/04 07:40:55 PM] Calculating hypotheses (relax: True)...\n",
      "[INFO][2023/02/04 07:40:55 PM] Setting up constraints matrix for global optimisation...\n",
      "[INFO][2023/02/04 07:40:55 PM] Using GLPK options: {'tm_lim': 60000}...\n",
      "[INFO][2023/02/04 07:40:55 PM] Optimizing...\n",
      "[INFO][2023/02/04 07:40:55 PM] Optimization complete. (Solution: optimal)\n",
      "[INFO][2023/02/04 07:40:55 PM]  - Fates.FALSE_POSITIVE: 32 (of 506)\n",
      "[INFO][2023/02/04 07:40:55 PM]  - Fates.LINK: 98 (of 348)\n",
      "[INFO][2023/02/04 07:40:55 PM]  - Fates.DIVIDE: 110 (of 121)\n",
      "[INFO][2023/02/04 07:40:55 PM]  - Fates.APOPTOSIS: 1 (of 2)\n",
      "[INFO][2023/02/04 07:40:55 PM]  - Fates.INITIALIZE_BORDER: 52 (of 96)\n",
      "[INFO][2023/02/04 07:40:55 PM]  - Fates.INITIALIZE_FRONT: 70 (of 72)\n",
      "[INFO][2023/02/04 07:40:55 PM]  - Fates.INITIALIZE_LAZY: 34 (of 338)\n",
      "[INFO][2023/02/04 07:40:55 PM]  - Fates.TERMINATE_BORDER: 52 (of 90)\n",
      "[INFO][2023/02/04 07:40:55 PM]  - Fates.TERMINATE_BACK: 182 (of 185)\n",
      "[INFO][2023/02/04 07:40:55 PM]  - Fates.TERMINATE_LAZY: 31 (of 231)\n",
      "[INFO][2023/02/04 07:40:55 PM]  - TOTAL: 1989 hypotheses\n",
      "[INFO][2023/02/04 07:40:55 PM] Completed optimization with 408 tracks\n",
      "[INFO][2023/02/04 07:40:55 PM] Ending BayesianTracker session\n"
     ]
    }
   ],
   "source": [
    "# initialise a tracker session using a context manager\n",
    "with btrack.BayesianTracker() as tracker:\n",
    "\n",
    "  # configure the tracker using a config file\n",
    "  tracker.configure(config)\n",
    "\n",
    "  # append the objects to be tracked\n",
    "  tracker.append(track_objects)\n",
    "\n",
    "  # set the volume (Z axis volume is set very large for 2D data)\n",
    "  tracker.volume=((0,1600), (0,1200), (-1e5,1e5))\n",
    "\n",
    "  # track them (in interactive mode)\n",
    "  tracker.track(step_size=100)\n",
    "\n",
    "  # generate hypotheses and run the global optimizer\n",
    "  tracker.optimize()\n",
    "\n",
    "  # get the tracks in a format for napari visualization\n",
    "  data, properties, graph = tracker.to_napari(ndim=2)"
   ]
  },
  {
   "attachments": {},
   "cell_type": "markdown",
   "metadata": {},
   "source": [
    "## Load the results into `napari` for visualization"
   ]
  },
  {
   "cell_type": "code",
   "execution_count": 5,
   "metadata": {},
   "outputs": [],
   "source": [
    "viewer.add_image(segmentation);\n",
    "vertices = data[:, 1:]\n",
    "viewer.add_points(vertices, size=4, name='points', opacity=0.3)\n",
    "viewer.add_tracks(data, properties=properties, graph=graph, name='tracks');"
   ]
  }
 ],
 "metadata": {
  "kernelspec": {
   "display_name": "napari-env",
   "language": "python",
   "name": "python3"
  },
  "language_info": {
   "codemirror_mode": {
    "name": "ipython",
    "version": 3
   },
   "file_extension": ".py",
   "mimetype": "text/x-python",
   "name": "python",
   "nbconvert_exporter": "python",
   "pygments_lexer": "ipython3",
   "version": "3.9.16"
  },
  "orig_nbformat": 4,
  "vscode": {
   "interpreter": {
    "hash": "a792895d46eefaff74cf85fc0da8d748954f0acb7eeaffa7d7a73a4cda8ecf9b"
   }
  }
 },
 "nbformat": 4,
 "nbformat_minor": 2
}
